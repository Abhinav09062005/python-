{
 "cells": [
  {
   "cell_type": "code",
   "execution_count": null,
   "id": "57150fa5",
   "metadata": {},
   "outputs": [],
   "source": [
    "#why seaborn\n",
    "# provides a layer of abstraction hence simpler to use\n",
    "# better aesthetics\n",
    "# more graphs included\n",
    "\n",
    "# type of function\n",
    "# figure level and axis level\n",
    "\n",
    "# main classification\n",
    "# ralational plot\n",
    "# distribution plot\n",
    "#\n",
    "#\n",
    "#\n",
    "#\n",
    "#\n",
    "\n",
    "\n"
   ]
  }
 ],
 "metadata": {
  "kernelspec": {
   "display_name": "Python 3",
   "language": "python",
   "name": "python3"
  },
  "language_info": {
   "name": "python",
   "version": "3.11.4"
  }
 },
 "nbformat": 4,
 "nbformat_minor": 5
}
